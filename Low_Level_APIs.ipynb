{
  "nbformat": 4,
  "nbformat_minor": 0,
  "metadata": {
    "colab": {
      "name": "Low Level APIs",
      "version": "0.3.2",
      "provenance": [],
      "collapsed_sections": [],
      "include_colab_link": true
    },
    "kernelspec": {
      "name": "python3",
      "display_name": "Python 3"
    }
  },
  "cells": [
    {
      "cell_type": "markdown",
      "metadata": {
        "id": "view-in-github",
        "colab_type": "text"
      },
      "source": [
        "<a href=\"https://colab.research.google.com/github/dpnolan/AI/blob/master/Low_Level_APIs.ipynb\" target=\"_parent\"><img src=\"https://colab.research.google.com/assets/colab-badge.svg\" alt=\"Open In Colab\"/></a>"
      ]
    },
    {
      "metadata": {
        "id": "ZVjcFcwCmUO-",
        "colab_type": "text"
      },
      "cell_type": "markdown",
      "source": [
        "#1 Introduction"
      ]
    },
    {
      "metadata": {
        "id": "5grRXqsCgPGq",
        "colab_type": "code",
        "colab": {}
      },
      "cell_type": "code",
      "source": [
        "from __future__ import absolute_import\n",
        "from __future__ import division\n",
        "from __future__ import print_function\n",
        "\n",
        "import numpy as np\n",
        "import tensorflow as tf"
      ],
      "execution_count": 0,
      "outputs": []
    },
    {
      "metadata": {
        "id": "20RcV3uXgUPl",
        "colab_type": "code",
        "colab": {
          "base_uri": "https://localhost:8080/",
          "height": 34
        },
        "outputId": "0d5e6c4b-3211-43c1-df63-35efb2701fbf"
      },
      "cell_type": "code",
      "source": [
        "tf.__version__"
      ],
      "execution_count": 2,
      "outputs": [
        {
          "output_type": "execute_result",
          "data": {
            "text/plain": [
              "'1.12.0'"
            ]
          },
          "metadata": {
            "tags": []
          },
          "execution_count": 2
        }
      ]
    },
    {
      "metadata": {
        "id": "Kxj5V0MMgXIo",
        "colab_type": "code",
        "colab": {}
      },
      "cell_type": "code",
      "source": [
        "a=3. # a rank 0 tensor; a scalar with shape [],\n",
        "b=[1., 2., 3.] # a rank 1 tensor; a vector with shape [3]\n",
        "c=[[1., 2., 3.], [4., 5., 6.]] # a rank 2 tensor; a matrix with shape [2, 3]\n",
        "d=[[[1., 2., 3.]], [[7., 8., 9.]]] # a rank 3 tensor with shape [2, 1, 3]"
      ],
      "execution_count": 0,
      "outputs": []
    },
    {
      "metadata": {
        "id": "dz2kMSTvgdGi",
        "colab_type": "code",
        "colab": {
          "base_uri": "https://localhost:8080/",
          "height": 34
        },
        "outputId": "ded14d23-b712-4143-b6df-b2b4268e2f72"
      },
      "cell_type": "code",
      "source": [
        ""
      ],
      "execution_count": 5,
      "outputs": [
        {
          "output_type": "execute_result",
          "data": {
            "text/plain": [
              "[[[1.0, 2.0, 3.0]], [[7.0, 8.0, 9.0]]]"
            ]
          },
          "metadata": {
            "tags": []
          },
          "execution_count": 5
        }
      ]
    },
    {
      "metadata": {
        "id": "QFGXuCcJgiV8",
        "colab_type": "code",
        "colab": {
          "base_uri": "https://localhost:8080/",
          "height": 67
        },
        "outputId": "ffca0f1c-5bab-401a-d166-f8bf34d36935"
      },
      "cell_type": "code",
      "source": [
        "a = tf.constant(3.0, dtype=tf.float32)\n",
        "b = tf.constant(4.0) # also tf.float32 implicitly\n",
        "total = a + b"
      ],
      "execution_count": 8,
      "outputs": [
        {
          "output_type": "stream",
          "text": [
            "Tensor(\"Const:0\", shape=(), dtype=float32)\n",
            "Tensor(\"Const_1:0\", shape=(), dtype=float32)\n",
            "Tensor(\"add:0\", shape=(), dtype=float32)\n"
          ],
          "name": "stdout"
        }
      ]
    },
    {
      "metadata": {
        "id": "iQb-Xfr4gjdn",
        "colab_type": "code",
        "colab": {
          "base_uri": "https://localhost:8080/",
          "height": 67
        },
        "outputId": "272f67e4-5ac6-4d68-fb69-e6b38a59b6fd"
      },
      "cell_type": "code",
      "source": [
        "print(a)\n",
        "print(b)\n",
        "print(total)"
      ],
      "execution_count": 9,
      "outputs": [
        {
          "output_type": "stream",
          "text": [
            "Tensor(\"Const:0\", shape=(), dtype=float32)\n",
            "Tensor(\"Const_1:0\", shape=(), dtype=float32)\n",
            "Tensor(\"add:0\", shape=(), dtype=float32)\n"
          ],
          "name": "stdout"
        }
      ]
    },
    {
      "metadata": {
        "id": "isMlv1pJgz-y",
        "colab_type": "code",
        "colab": {}
      },
      "cell_type": "code",
      "source": [
        "writer = tf.summary.FileWriter('.')\n",
        "writer.add_graph(tf.get_default_graph())"
      ],
      "execution_count": 0,
      "outputs": []
    },
    {
      "metadata": {
        "id": "2HwtlhvfhO9e",
        "colab_type": "code",
        "colab": {
          "base_uri": "https://localhost:8080/",
          "height": 34
        },
        "outputId": "6d913b3e-0364-4ded-b792-7c437f394ec7"
      },
      "cell_type": "code",
      "source": [
        "!pwd"
      ],
      "execution_count": 11,
      "outputs": [
        {
          "output_type": "stream",
          "text": [
            "/content\n"
          ],
          "name": "stdout"
        }
      ]
    },
    {
      "metadata": {
        "id": "tDfEDZCkhPuW",
        "colab_type": "code",
        "colab": {
          "base_uri": "https://localhost:8080/",
          "height": 118
        },
        "outputId": "29b6798a-a8c3-4bd1-ef99-38889eba5bc1"
      },
      "cell_type": "code",
      "source": [
        "!ls -altr"
      ],
      "execution_count": 13,
      "outputs": [
        {
          "output_type": "stream",
          "text": [
            "total 20\n",
            "drwxr-xr-x 1 root root 4096 Nov 29 18:21 .config\n",
            "drwxr-xr-x 2 root root 4096 Nov 29 18:21 sample_data\n",
            "drwxr-xr-x 1 root root 4096 Dec  1 15:40 ..\n",
            "drwxr-xr-x 1 root root 4096 Dec  1 16:05 .\n",
            "-rw-r--r-- 1 root root  287 Dec  1 16:05 events.out.tfevents.1543680356.5e35b18a08df\n"
          ],
          "name": "stdout"
        }
      ]
    },
    {
      "metadata": {
        "id": "HUb70Vv7hR0l",
        "colab_type": "code",
        "colab": {
          "base_uri": "https://localhost:8080/",
          "height": 34
        },
        "outputId": "682b99be-ee23-4357-ee82-c7f23bb8695d"
      },
      "cell_type": "code",
      "source": [
        "sess = tf.Session()\n",
        "print(sess.run(total))"
      ],
      "execution_count": 20,
      "outputs": [
        {
          "output_type": "stream",
          "text": [
            "7.0\n"
          ],
          "name": "stdout"
        }
      ]
    },
    {
      "metadata": {
        "id": "V0xXq4sZhoqC",
        "colab_type": "code",
        "colab": {
          "base_uri": "https://localhost:8080/",
          "height": 34
        },
        "outputId": "38bf6c6e-bc64-4eed-df55-ea7a52f5b5db"
      },
      "cell_type": "code",
      "source": [
        "print(sess.run({'ab':(a, b), 'total':total}))"
      ],
      "execution_count": 22,
      "outputs": [
        {
          "output_type": "stream",
          "text": [
            "{'ab': (3.0, 4.0), 'total': 7.0}\n"
          ],
          "name": "stdout"
        }
      ]
    },
    {
      "metadata": {
        "id": "ioH2-nYHiaR9",
        "colab_type": "code",
        "colab": {
          "base_uri": "https://localhost:8080/",
          "height": 67
        },
        "outputId": "5048e95d-35ba-4470-8951-955c96054f14"
      },
      "cell_type": "code",
      "source": [
        "vec = tf.random_uniform(shape=(3,))\n",
        "out1 = vec + 1\n",
        "out2 = vec + 2\n",
        "print(sess.run(vec))\n",
        "print(sess.run(vec))\n",
        "print(sess.run((out1, out2)))"
      ],
      "execution_count": 24,
      "outputs": [
        {
          "output_type": "stream",
          "text": [
            "[0.8610325  0.12572145 0.53890204]\n",
            "[0.3044281  0.5547668  0.99774504]\n",
            "(array([1.0062814, 1.5588205, 1.6875824], dtype=float32), array([2.0062814, 2.5588205, 2.6875825], dtype=float32))\n"
          ],
          "name": "stdout"
        }
      ]
    },
    {
      "metadata": {
        "id": "fXwyMtoNlXjQ",
        "colab_type": "code",
        "colab": {}
      },
      "cell_type": "code",
      "source": [
        "x = tf.placeholder(tf.float32)\n",
        "y = tf.placeholder(tf.float32)\n",
        "z = x + y"
      ],
      "execution_count": 0,
      "outputs": []
    },
    {
      "metadata": {
        "id": "nPGORtkqldnJ",
        "colab_type": "code",
        "colab": {
          "base_uri": "https://localhost:8080/",
          "height": 34
        },
        "outputId": "e1ab632a-3f83-445f-e2ba-028f76cadb61"
      },
      "cell_type": "code",
      "source": [
        "z"
      ],
      "execution_count": 27,
      "outputs": [
        {
          "output_type": "execute_result",
          "data": {
            "text/plain": [
              "<tf.Tensor 'add_5:0' shape=<unknown> dtype=float32>"
            ]
          },
          "metadata": {
            "tags": []
          },
          "execution_count": 27
        }
      ]
    },
    {
      "metadata": {
        "id": "Q5PESnXtlfVD",
        "colab_type": "code",
        "colab": {}
      },
      "cell_type": "code",
      "source": [
        "z1=(sess.run(z, feed_dict={x: 3, y: 4.5}))\n",
        "z2=(sess.run(z, feed_dict={x: [1, 3], y: [2, 4]}))\n"
      ],
      "execution_count": 0,
      "outputs": []
    },
    {
      "metadata": {
        "id": "k_u-QVRnlosY",
        "colab_type": "code",
        "colab": {
          "base_uri": "https://localhost:8080/",
          "height": 34
        },
        "outputId": "3da4465a-5ba9-4a13-a544-92314bfa73e9"
      },
      "cell_type": "code",
      "source": [
        "z1"
      ],
      "execution_count": 33,
      "outputs": [
        {
          "output_type": "execute_result",
          "data": {
            "text/plain": [
              "7.5"
            ]
          },
          "metadata": {
            "tags": []
          },
          "execution_count": 33
        }
      ]
    },
    {
      "metadata": {
        "id": "56v0fYeVluGI",
        "colab_type": "code",
        "colab": {
          "base_uri": "https://localhost:8080/",
          "height": 34
        },
        "outputId": "b4a0293d-503d-4672-fa56-c697120694a4"
      },
      "cell_type": "code",
      "source": [
        "z2"
      ],
      "execution_count": 34,
      "outputs": [
        {
          "output_type": "execute_result",
          "data": {
            "text/plain": [
              "array([3., 7.], dtype=float32)"
            ]
          },
          "metadata": {
            "tags": []
          },
          "execution_count": 34
        }
      ]
    },
    {
      "metadata": {
        "id": "t86pCvbClu8O",
        "colab_type": "code",
        "colab": {}
      },
      "cell_type": "code",
      "source": [
        "my_data = [\n",
        "    [0, 1,],\n",
        "    [2, 3,],\n",
        "    [4, 5,],\n",
        "    [6, 7,],\n",
        "]\n",
        "slices = tf.data.Dataset.from_tensor_slices(my_data)\n",
        "next_item = slices.make_one_shot_iterator().get_next()"
      ],
      "execution_count": 0,
      "outputs": []
    },
    {
      "metadata": {
        "id": "-J0T4i-Fl4h6",
        "colab_type": "code",
        "colab": {
          "base_uri": "https://localhost:8080/",
          "height": 84
        },
        "outputId": "cc0a1816-469a-4731-e90f-c77aede01803"
      },
      "cell_type": "code",
      "source": [
        "while True:\n",
        "  try:\n",
        "    print(sess.run(next_item))\n",
        "  except tf.errors.OutOfRangeError:\n",
        "    break\n"
      ],
      "execution_count": 37,
      "outputs": [
        {
          "output_type": "stream",
          "text": [
            "[0 1]\n",
            "[2 3]\n",
            "[4 5]\n",
            "[6 7]\n"
          ],
          "name": "stdout"
        }
      ]
    },
    {
      "metadata": {
        "id": "8ayo6JaSmIvM",
        "colab_type": "code",
        "colab": {
          "base_uri": "https://localhost:8080/",
          "height": 185
        },
        "outputId": "a987f379-efdc-4509-9546-d77230915a8a"
      },
      "cell_type": "code",
      "source": [
        "r = tf.random_normal([10,3])\n",
        "dataset = tf.data.Dataset.from_tensor_slices(r)\n",
        "iterator = dataset.make_initializable_iterator()\n",
        "next_row = iterator.get_next()\n",
        "\n",
        "sess.run(iterator.initializer)\n",
        "while True:\n",
        "  try:\n",
        "    print(sess.run(next_row))\n",
        "  except tf.errors.OutOfRangeError:\n",
        "    break"
      ],
      "execution_count": 45,
      "outputs": [
        {
          "output_type": "stream",
          "text": [
            "[-1.6936624 -1.1397572  2.9937596]\n",
            "[-0.9362539  -0.37387708 -0.9409202 ]\n",
            "[ 2.1415143   1.152487   -0.13004439]\n",
            "[-1.2388612 -0.6519705  2.0890203]\n",
            "[ 0.59097886  0.2892903  -0.5117228 ]\n",
            "[1.2881304  0.30884984 0.11829697]\n",
            "[-0.9345663   0.392481   -0.23887293]\n",
            "[0.13957448 0.49536616 0.47892746]\n",
            "[ 1.4644263  -0.39770544  1.4645631 ]\n",
            "[0.05948121 1.1183243  1.5249916 ]\n"
          ],
          "name": "stdout"
        }
      ]
    },
    {
      "metadata": {
        "id": "GMMXg_8TpI8U",
        "colab_type": "code",
        "colab": {}
      },
      "cell_type": "code",
      "source": [
        "x = tf.placeholder(tf.float32, shape=[None, 3])\n",
        "linear_model = tf.layers.Dense(units=1)\n",
        "y = linear_model(x)\n"
      ],
      "execution_count": 0,
      "outputs": []
    },
    {
      "metadata": {
        "id": "0zOi8Tz2pTEM",
        "colab_type": "code",
        "colab": {}
      },
      "cell_type": "code",
      "source": [
        "init = tf.global_variables_initializer()\n",
        "sess.run(init)"
      ],
      "execution_count": 0,
      "outputs": []
    },
    {
      "metadata": {
        "id": "YxhE6YXxpY3e",
        "colab_type": "code",
        "colab": {
          "base_uri": "https://localhost:8080/",
          "height": 50
        },
        "outputId": "802b190f-1f73-4df2-ef9c-7c5009ec3d83"
      },
      "cell_type": "code",
      "source": [
        "print(sess.run(y, {x: [[1, 2, 3],[4, 5, 6]]}))\n"
      ],
      "execution_count": 56,
      "outputs": [
        {
          "output_type": "stream",
          "text": [
            "[[2.1192846]\n",
            " [3.2077045]]\n"
          ],
          "name": "stdout"
        }
      ]
    },
    {
      "metadata": {
        "id": "GIvYJ_pHpfU5",
        "colab_type": "code",
        "colab": {
          "base_uri": "https://localhost:8080/",
          "height": 50
        },
        "outputId": "4a54a9db-cb18-449f-e60e-408076a6c9d8"
      },
      "cell_type": "code",
      "source": [
        "x = tf.placeholder(tf.float32, shape=[None, 3])\n",
        "y = tf.layers.dense(x, units=1)\n",
        "\n",
        "init = tf.global_variables_initializer()\n",
        "sess.run(init)\n",
        "\n",
        "print(sess.run(y, {x: [[1, 2, 3], [4, 5, 6]]}))\n"
      ],
      "execution_count": 57,
      "outputs": [
        {
          "output_type": "stream",
          "text": [
            "[[1.2565318]\n",
            " [0.6305063]]\n"
          ],
          "name": "stdout"
        }
      ]
    },
    {
      "metadata": {
        "id": "XrVNu2l4pqq9",
        "colab_type": "code",
        "colab": {
          "base_uri": "https://localhost:8080/",
          "height": 87
        },
        "outputId": "be1ba266-22f0-4aa3-8dd5-3e3b29c98126"
      },
      "cell_type": "code",
      "source": [
        "features = {\n",
        "    'sales' : [[5], [10], [8], [9]],\n",
        "    'department': ['sports', 'sports', 'gardening', 'gardening']}\n",
        "\n",
        "department_column = tf.feature_column.categorical_column_with_vocabulary_list(\n",
        "        'department', ['sports', 'gardening'])\n",
        "department_column = tf.feature_column.indicator_column(department_column)\n",
        "\n",
        "columns = [\n",
        "    tf.feature_column.numeric_column('sales'),\n",
        "    department_column\n",
        "]\n",
        "\n",
        "inputs = tf.feature_column.input_layer(features, columns)"
      ],
      "execution_count": 58,
      "outputs": [
        {
          "output_type": "stream",
          "text": [
            "WARNING:tensorflow:From /usr/local/lib/python3.6/dist-packages/tensorflow/python/ops/sparse_ops.py:1165: sparse_to_dense (from tensorflow.python.ops.sparse_ops) is deprecated and will be removed in a future version.\n",
            "Instructions for updating:\n",
            "Create a `tf.sparse.SparseTensor` and use `tf.sparse.to_dense` instead.\n"
          ],
          "name": "stdout"
        }
      ]
    },
    {
      "metadata": {
        "id": "u03MNt_3q9gy",
        "colab_type": "code",
        "colab": {
          "base_uri": "https://localhost:8080/",
          "height": 34
        },
        "outputId": "dd76fcd8-ee24-4077-8167-6020986e9d71"
      },
      "cell_type": "code",
      "source": [
        "var_init = tf.global_variables_initializer()\n",
        "table_init = tf.tables_initializer()\n",
        "sess = tf.Session()\n",
        "sess.run((var_init, table_init))"
      ],
      "execution_count": 59,
      "outputs": [
        {
          "output_type": "execute_result",
          "data": {
            "text/plain": [
              "(None, None)"
            ]
          },
          "metadata": {
            "tags": []
          },
          "execution_count": 59
        }
      ]
    },
    {
      "metadata": {
        "id": "9X3rWEYtrf5Z",
        "colab_type": "code",
        "colab": {
          "base_uri": "https://localhost:8080/",
          "height": 84
        },
        "outputId": "7126a9c1-6e4e-4261-b182-14f4804d288b"
      },
      "cell_type": "code",
      "source": [
        "print(sess.run(inputs))"
      ],
      "execution_count": 60,
      "outputs": [
        {
          "output_type": "stream",
          "text": [
            "[[ 1.  0.  5.]\n",
            " [ 1.  0. 10.]\n",
            " [ 0.  1.  8.]\n",
            " [ 0.  1.  9.]]\n"
          ],
          "name": "stdout"
        }
      ]
    },
    {
      "metadata": {
        "id": "9QsHky2crlhM",
        "colab_type": "code",
        "colab": {}
      },
      "cell_type": "code",
      "source": [
        "x = tf.constant([[1], [2], [3], [4]], dtype=tf.float32)\n",
        "y_true = tf.constant([[0], [-1], [-2], [-3]], dtype=tf.float32)"
      ],
      "execution_count": 0,
      "outputs": []
    },
    {
      "metadata": {
        "id": "9lzkVZLrs0Mn",
        "colab_type": "code",
        "colab": {}
      },
      "cell_type": "code",
      "source": [
        "linear_model = tf.layers.Dense(units=1)\n",
        "\n",
        "y_pred = linear_model(x)"
      ],
      "execution_count": 0,
      "outputs": []
    },
    {
      "metadata": {
        "id": "e-sCnWOps4Cc",
        "colab_type": "code",
        "colab": {
          "base_uri": "https://localhost:8080/",
          "height": 84
        },
        "outputId": "c61cd7e8-00fd-44e2-d20c-22afec8ea680"
      },
      "cell_type": "code",
      "source": [
        "sess = tf.Session()\n",
        "init = tf.global_variables_initializer()\n",
        "sess.run(init)\n",
        "\n",
        "print(sess.run(y_pred))"
      ],
      "execution_count": 64,
      "outputs": [
        {
          "output_type": "stream",
          "text": [
            "[[0.83590305]\n",
            " [1.6718061 ]\n",
            " [2.507709  ]\n",
            " [3.3436122 ]]\n"
          ],
          "name": "stdout"
        }
      ]
    },
    {
      "metadata": {
        "id": "c5W8UZ3guBcv",
        "colab_type": "code",
        "colab": {
          "base_uri": "https://localhost:8080/",
          "height": 34
        },
        "outputId": "e353bf48-e208-4091-ffb8-9d63a3f0ee8d"
      },
      "cell_type": "code",
      "source": [
        "loss = tf.losses.mean_squared_error(labels=y_true, predictions=y_pred)\n",
        "\n",
        "print(sess.run(loss))\n"
      ],
      "execution_count": 65,
      "outputs": [
        {
          "output_type": "stream",
          "text": [
            "17.099535\n"
          ],
          "name": "stdout"
        }
      ]
    },
    {
      "metadata": {
        "id": "uESRTgMwuNK-",
        "colab_type": "code",
        "colab": {}
      },
      "cell_type": "code",
      "source": [
        "optimizer = tf.train.GradientDescentOptimizer(0.01)\n",
        "train = optimizer.minimize(loss)"
      ],
      "execution_count": 0,
      "outputs": []
    },
    {
      "metadata": {
        "id": "1_z9i5LIu2pG",
        "colab_type": "code",
        "colab": {}
      },
      "cell_type": "code",
      "source": [
        "for i in range(100):\n",
        "  _, loss_value = sess.run((train, loss))\n",
        "  print(loss_value)"
      ],
      "execution_count": 0,
      "outputs": []
    },
    {
      "metadata": {
        "id": "I6ZIUGHdu8F1",
        "colab_type": "code",
        "colab": {
          "base_uri": "https://localhost:8080/",
          "height": 84
        },
        "outputId": "2909805a-0d09-4cfe-a0fe-f1befdcfa867"
      },
      "cell_type": "code",
      "source": [
        "print(sess.run(y_pred))"
      ],
      "execution_count": 68,
      "outputs": [
        {
          "output_type": "stream",
          "text": [
            "[[-0.71187794]\n",
            " [-1.3449537 ]\n",
            " [-1.9780293 ]\n",
            " [-2.611105  ]]\n"
          ],
          "name": "stdout"
        }
      ]
    },
    {
      "metadata": {
        "id": "9ngkVOJIvJqZ",
        "colab_type": "code",
        "colab": {}
      },
      "cell_type": "code",
      "source": [
        ""
      ],
      "execution_count": 0,
      "outputs": []
    }
  ]
}